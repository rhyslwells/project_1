{
 "cells": [
  {
   "cell_type": "markdown",
   "metadata": {},
   "source": [
    "# Project description & Problem Definition\n"
   ]
  },
  {
   "cell_type": "markdown",
   "metadata": {},
   "source": [
    "We have some job data scraped from Linkedin. Here we explore the data and try to answer some questions."
   ]
  },
  {
   "cell_type": "code",
   "execution_count": 246,
   "metadata": {},
   "outputs": [],
   "source": [
    "## Imports\n",
    "\n",
    "import pandas as pd\n",
    "import numpy as np\n",
    "import matplotlib.pyplot as plt\n",
    "import seaborn as sns"
   ]
  },
  {
   "cell_type": "code",
   "execution_count": 247,
   "metadata": {},
   "outputs": [],
   "source": [
    "df = pd.read_csv('../data/raw/job_postings.csv')"
   ]
  },
  {
   "cell_type": "code",
   "execution_count": 248,
   "metadata": {},
   "outputs": [],
   "source": [
    "# df_comp = pd.read_csv('../data/raw/company_details/companies.csv')\n",
    "# df_ind = pd.read_csv('../data/raw/company_details/company_industries.csv')\n",
    "# df_emp = pd.read_csv('../data/raw/company_details/employee_counts.csv')"
   ]
  },
  {
   "cell_type": "markdown",
   "metadata": {},
   "source": [
    "# Total features inspection and Initial Preprocessing"
   ]
  },
  {
   "cell_type": "markdown",
   "metadata": {},
   "source": [
    "## Inital inspect"
   ]
  },
  {
   "cell_type": "markdown",
   "metadata": {},
   "source": [
    "\n",
    "Drop columns with lots of missing values.\n",
    "\n",
    "Can we add values if missing? "
   ]
  },
  {
   "cell_type": "code",
   "execution_count": 249,
   "metadata": {},
   "outputs": [
    {
     "name": "stdout",
     "output_type": "stream",
     "text": [
      "<class 'pandas.core.frame.DataFrame'>\n",
      "RangeIndex: 33246 entries, 0 to 33245\n",
      "Data columns (total 15 columns):\n",
      " #   Column                      Non-Null Count  Dtype  \n",
      "---  ------                      --------------  -----  \n",
      " 0   job_id                      33246 non-null  int64  \n",
      " 1   company_id                  32592 non-null  float64\n",
      " 2   title                       33246 non-null  object \n",
      " 3   max_salary                  11111 non-null  float64\n",
      " 4   min_salary                  11111 non-null  float64\n",
      " 5   pay_period                  13352 non-null  object \n",
      " 6   formatted_work_type         33246 non-null  object \n",
      " 7   location                    33246 non-null  object \n",
      " 8   applies                     16238 non-null  float64\n",
      " 9   remote_allowed              4802 non-null   float64\n",
      " 10  views                       25886 non-null  float64\n",
      " 11  formatted_experience_level  24065 non-null  object \n",
      " 12  skills_desc                 337 non-null    object \n",
      " 13  posting_domain              19688 non-null  object \n",
      " 14  work_type                   33246 non-null  object \n",
      "dtypes: float64(6), int64(1), object(8)\n",
      "memory usage: 3.8+ MB\n"
     ]
    }
   ],
   "source": [
    "# df.head()\n",
    "df.columns\n",
    "# Display the first few rows of the dataframe\n",
    "df.head()\n",
    "df.info()"
   ]
  },
  {
   "cell_type": "code",
   "execution_count": 78,
   "metadata": {},
   "outputs": [],
   "source": [
    "# Categorical  and Numerical columns\n",
    "# df.info() #df.count()\n",
    "object_columns = df.select_dtypes(include='object').columns\n",
    "object_numerical = df.select_dtypes(include='float64').columns"
   ]
  },
  {
   "cell_type": "code",
   "execution_count": 91,
   "metadata": {},
   "outputs": [
    {
     "data": {
      "text/plain": [
       "job_id                        33246\n",
       "company_id                    11325\n",
       "title                         22404\n",
       "max_salary                     2359\n",
       "min_salary                     2152\n",
       "pay_period                        5\n",
       "formatted_work_type               7\n",
       "location                       4621\n",
       "applies                         328\n",
       "remote_allowed                    1\n",
       "views                           788\n",
       "formatted_experience_level        7\n",
       "skills_desc                     304\n",
       "posting_domain                 2576\n",
       "work_type                         7\n",
       "job_classification               92\n",
       "median_salary                  2855\n",
       "dtype: int64"
      ]
     },
     "execution_count": 91,
     "metadata": {},
     "output_type": "execute_result"
    }
   ],
   "source": [
    "df.nunique()\n",
    "# df.isnull().sum()\n",
    "# df.isna().sum()"
   ]
  },
  {
   "cell_type": "code",
   "execution_count": 250,
   "metadata": {},
   "outputs": [
    {
     "name": "stdout",
     "output_type": "stream",
     "text": [
      "Percentage of missing values for each column:\n",
      "job_id                         0.000000\n",
      "company_id                     1.967154\n",
      "title                          0.000000\n",
      "max_salary                    66.579438\n",
      "min_salary                    66.579438\n",
      "pay_period                    59.838778\n",
      "formatted_work_type            0.000000\n",
      "location                       0.000000\n",
      "applies                       51.158034\n",
      "remote_allowed                85.556157\n",
      "views                         22.138002\n",
      "formatted_experience_level    27.615352\n",
      "skills_desc                   98.986344\n",
      "posting_domain                40.780846\n",
      "work_type                      0.000000\n",
      "dtype: float64\n"
     ]
    }
   ],
   "source": [
    "missing_percentage = df.isna().mean() * 100\n",
    "print(\"Percentage of missing values for each column:\")\n",
    "print(missing_percentage)"
   ]
  },
  {
   "cell_type": "code",
   "execution_count": 251,
   "metadata": {},
   "outputs": [
    {
     "name": "stdout",
     "output_type": "stream",
     "text": [
      "<class 'pandas.core.frame.DataFrame'>\n",
      "RangeIndex: 33246 entries, 0 to 33245\n",
      "Data columns (total 5 columns):\n",
      " #   Column               Non-Null Count  Dtype \n",
      "---  ------               --------------  ----- \n",
      " 0   job_id               33246 non-null  int64 \n",
      " 1   title                33246 non-null  object\n",
      " 2   formatted_work_type  33246 non-null  object\n",
      " 3   location             33246 non-null  object\n",
      " 4   work_type            33246 non-null  object\n",
      "dtypes: int64(1), object(4)\n",
      "memory usage: 1.3+ MB\n"
     ]
    }
   ],
   "source": [
    "# those with nas\n",
    "# df[df.columns[df.isna().sum() > 0].tolist()].info() \n",
    "#No na values\n",
    "df[df.columns[df.isna().sum() == 0].tolist()].info()"
   ]
  },
  {
   "cell_type": "markdown",
   "metadata": {},
   "source": [
    "## Location, work type and remote\n"
   ]
  },
  {
   "cell_type": "markdown",
   "metadata": {},
   "source": [
    "### location\n"
   ]
  },
  {
   "cell_type": "code",
   "execution_count": 252,
   "metadata": {},
   "outputs": [
    {
     "data": {
      "text/plain": [
       "United States        2341\n",
       "New York, NY          818\n",
       "Chicago, IL           534\n",
       "Houston, TX           444\n",
       "Dallas, TX            383\n",
       "                     ... \n",
       "Corsicana, TX           1\n",
       "Baldwinsville, NY       1\n",
       "Lithonia, GA            1\n",
       "Auburn, IN              1\n",
       "Riverdale, UT           1\n",
       "Name: location, Length: 4621, dtype: int64"
      ]
     },
     "execution_count": 252,
     "metadata": {},
     "output_type": "execute_result"
    }
   ],
   "source": [
    "df[\"location\"].value_counts()"
   ]
  },
  {
   "cell_type": "markdown",
   "metadata": {},
   "source": [
    "\n",
    "### formatted_work_type\n"
   ]
  },
  {
   "cell_type": "code",
   "execution_count": 253,
   "metadata": {},
   "outputs": [
    {
     "data": {
      "text/plain": [
       "Full-time     26900\n",
       "Contract       3459\n",
       "Part-time      2244\n",
       "Temporary       260\n",
       "Internship      228\n",
       "Other           110\n",
       "Volunteer        45\n",
       "Name: formatted_work_type, dtype: int64"
      ]
     },
     "execution_count": 253,
     "metadata": {},
     "output_type": "execute_result"
    }
   ],
   "source": [
    "df[\"formatted_work_type\"].value_counts()"
   ]
  },
  {
   "cell_type": "markdown",
   "metadata": {},
   "source": [
    "### remote_allowed\n"
   ]
  },
  {
   "cell_type": "code",
   "execution_count": 254,
   "metadata": {},
   "outputs": [
    {
     "name": "stdout",
     "output_type": "stream",
     "text": [
      "[0. 1.]\n"
     ]
    }
   ],
   "source": [
    "df[\"remote_allowed\"].fillna(0, inplace=True)\n",
    "# Verify the unique values\n",
    "print(df[\"remote_allowed\"].unique())"
   ]
  },
  {
   "cell_type": "markdown",
   "metadata": {},
   "source": [
    "## Job title, description, level and skills\n"
   ]
  },
  {
   "cell_type": "markdown",
   "metadata": {},
   "source": [
    "### Title"
   ]
  },
  {
   "cell_type": "code",
   "execution_count": 126,
   "metadata": {},
   "outputs": [
    {
     "data": {
      "text/plain": [
       "0                                Hearing Care Provider\n",
       "1    Shipping & Receiving Associate 2nd shift (Beav...\n",
       "2                                 Manager, Engineering\n",
       "3                                                 Cook\n",
       "4          Principal Cloud Security Architect (Remote)\n",
       "5                        Territory Manager - New Haven\n",
       "6                                  Auto Body Techncian\n",
       "7        ACME D8- Asst Store Director (ASD) Sussex, NJ\n",
       "8                                           Dishwasher\n",
       "9    Instrumentation Quality Control Representative...\n",
       "Name: title, dtype: object"
      ]
     },
     "execution_count": 126,
     "metadata": {},
     "output_type": "execute_result"
    }
   ],
   "source": [
    "# Check for missing values\n",
    "# df['title'].isnull().sum()# 0 missing values\n",
    "\n",
    "unique_titles_count = df['title'].nunique()\n",
    "print(\"\\n Number of unique job titles:\", unique_titles_count)"
   ]
  },
  {
   "cell_type": "markdown",
   "metadata": {},
   "source": [
    "\n",
    "### Experience_level\n"
   ]
  },
  {
   "cell_type": "code",
   "execution_count": 257,
   "metadata": {},
   "outputs": [],
   "source": [
    "# df[\"formatted_experience_level\"].isnull #27% missing values"
   ]
  },
  {
   "cell_type": "code",
   "execution_count": 258,
   "metadata": {},
   "outputs": [],
   "source": [
    "df[\"formatted_experience_level\"].unique() #['Entry level', 'nan', 'Mid-Senior level', 'Director',\n",
    "    #    'Associate', 'Executive', 'Internship']\n",
    "df['formatted_experience_level'].fillna('Unknown', inplace=True)"
   ]
  },
  {
   "cell_type": "code",
   "execution_count": 259,
   "metadata": {},
   "outputs": [
    {
     "data": {
      "image/png": "[encoded data removed]",
      "text/plain": [
       "<Figure size 1000x600 with 1 Axes>"
      ]
     },
     "metadata": {},
     "output_type": "display_data"
    }
   ],
   "source": [
    "# distribition of formatted_experience_level as bar graph.\n",
    "\n",
    "# Bar plot for formatted_experience_level\n",
    "plt.figure(figsize=(10, 6))\n",
    "sns.countplot(x='formatted_experience_level', data=df)\n",
    "plt.title('Count of Jobs by Experience Level')\n",
    "plt.show()"
   ]
  },
  {
   "cell_type": "code",
   "execution_count": 189,
   "metadata": {},
   "outputs": [
    {
     "data": {
      "text/plain": [
       "Call Center Support Rep                    38\n",
       "Sales Associate                            36\n",
       "Scoring Content Specialist                 36\n",
       "Project Manager                            33\n",
       "Staff Accountant                           33\n",
       "                                           ..\n",
       "Attorney Development Coordinator            1\n",
       "OR / PACU And Pre-op : Registered Nurse     1\n",
       "Human Resources Intern                      1\n",
       "Cctv                                        1\n",
       "Stylist/ Clorist                            1\n",
       "Name: title, Length: 6416, dtype: int64"
      ]
     },
     "execution_count": 189,
     "metadata": {},
     "output_type": "execute_result"
    }
   ],
   "source": [
    "# Some jobs have an undetermined experience level. We can replace the missing values with \"Unknown\" to indicate this.\n",
    "unknown_rows = df[df[\"formatted_experience_level\"] == \"Unknown\"]\n",
    "unknown_rows.shape\n",
    "unknown_rows[\"title\"].value_counts()\n"
   ]
  },
  {
   "cell_type": "markdown",
   "metadata": {},
   "source": [
    "\n",
    "# formatted_work_type and work_type are the same\n"
   ]
  },
  {
   "cell_type": "code",
   "execution_count": 192,
   "metadata": {},
   "outputs": [
    {
     "data": {
      "text/plain": [
       "Full-time     26900\n",
       "Contract       3459\n",
       "Part-time      2244\n",
       "Temporary       260\n",
       "Internship      228\n",
       "Other           110\n",
       "Volunteer        45\n",
       "Name: formatted_work_type, dtype: int64"
      ]
     },
     "execution_count": 192,
     "metadata": {},
     "output_type": "execute_result"
    }
   ],
   "source": [
    "df[\"formatted_work_type\"].value_counts()"
   ]
  },
  {
   "cell_type": "markdown",
   "metadata": {},
   "source": [
    "### skills_desc\n"
   ]
  },
  {
   "cell_type": "code",
   "execution_count": null,
   "metadata": {},
   "outputs": [],
   "source": [
    "#More than 98% of the data is missing in the \"skills_desc\" column. We can drop this column.\n",
    "df.drop(\"skills_desc\",axis=1, inplace=True)"
   ]
  },
  {
   "cell_type": "markdown",
   "metadata": {},
   "source": [
    "## Salary and pay period"
   ]
  },
  {
   "cell_type": "code",
   "execution_count": 195,
   "metadata": {},
   "outputs": [
    {
     "data": {
      "text/html": [
       "<div>\n",
       "<style scoped>\n",
       "    .dataframe tbody tr th:only-of-type {\n",
       "        vertical-align: middle;\n",
       "    }\n",
       "\n",
       "    .dataframe tbody tr th {\n",
       "        vertical-align: top;\n",
       "    }\n",
       "\n",
       "    .dataframe thead th {\n",
       "        text-align: right;\n",
       "    }\n",
       "</style>\n",
       "<table border=\"1\" class=\"dataframe\">\n",
       "  <thead>\n",
       "    <tr style=\"text-align: right;\">\n",
       "      <th></th>\n",
       "      <th>job_id</th>\n",
       "      <th>company_id</th>\n",
       "      <th>title</th>\n",
       "      <th>max_salary</th>\n",
       "      <th>min_salary</th>\n",
       "      <th>pay_period</th>\n",
       "      <th>formatted_work_type</th>\n",
       "      <th>location</th>\n",
       "      <th>applies</th>\n",
       "      <th>remote_allowed</th>\n",
       "      <th>views</th>\n",
       "      <th>formatted_experience_level</th>\n",
       "      <th>skills_desc</th>\n",
       "      <th>posting_domain</th>\n",
       "      <th>work_type</th>\n",
       "    </tr>\n",
       "  </thead>\n",
       "  <tbody>\n",
       "    <tr>\n",
       "      <th>0</th>\n",
       "      <td>3757940104</td>\n",
       "      <td>553718.0</td>\n",
       "      <td>Hearing Care Provider</td>\n",
       "      <td>NaN</td>\n",
       "      <td>NaN</td>\n",
       "      <td>MONTHLY</td>\n",
       "      <td>Full-time</td>\n",
       "      <td>Little River, SC</td>\n",
       "      <td>NaN</td>\n",
       "      <td>NaN</td>\n",
       "      <td>9.0</td>\n",
       "      <td>Entry level</td>\n",
       "      <td>NaN</td>\n",
       "      <td>careers-demant.icims.com</td>\n",
       "      <td>FULL_TIME</td>\n",
       "    </tr>\n",
       "    <tr>\n",
       "      <th>1</th>\n",
       "      <td>3757940025</td>\n",
       "      <td>2192142.0</td>\n",
       "      <td>Shipping &amp; Receiving Associate 2nd shift (Beav...</td>\n",
       "      <td>NaN</td>\n",
       "      <td>NaN</td>\n",
       "      <td>NaN</td>\n",
       "      <td>Full-time</td>\n",
       "      <td>Beaver Dam, WI</td>\n",
       "      <td>NaN</td>\n",
       "      <td>NaN</td>\n",
       "      <td>NaN</td>\n",
       "      <td>Unknown</td>\n",
       "      <td>NaN</td>\n",
       "      <td>www.click2apply.net</td>\n",
       "      <td>FULL_TIME</td>\n",
       "    </tr>\n",
       "    <tr>\n",
       "      <th>2</th>\n",
       "      <td>3757938019</td>\n",
       "      <td>474443.0</td>\n",
       "      <td>Manager, Engineering</td>\n",
       "      <td>NaN</td>\n",
       "      <td>NaN</td>\n",
       "      <td>NaN</td>\n",
       "      <td>Full-time</td>\n",
       "      <td>Bessemer, AL</td>\n",
       "      <td>NaN</td>\n",
       "      <td>NaN</td>\n",
       "      <td>NaN</td>\n",
       "      <td>Unknown</td>\n",
       "      <td>Bachelor's Degree in Mechanical Engineering pr...</td>\n",
       "      <td>www.click2apply.net</td>\n",
       "      <td>FULL_TIME</td>\n",
       "    </tr>\n",
       "    <tr>\n",
       "      <th>3</th>\n",
       "      <td>3757938018</td>\n",
       "      <td>18213359.0</td>\n",
       "      <td>Cook</td>\n",
       "      <td>NaN</td>\n",
       "      <td>NaN</td>\n",
       "      <td>HOURLY</td>\n",
       "      <td>Full-time</td>\n",
       "      <td>Aliso Viejo, CA</td>\n",
       "      <td>NaN</td>\n",
       "      <td>NaN</td>\n",
       "      <td>1.0</td>\n",
       "      <td>Entry level</td>\n",
       "      <td>NaN</td>\n",
       "      <td>jobs.apploi.com</td>\n",
       "      <td>FULL_TIME</td>\n",
       "    </tr>\n",
       "    <tr>\n",
       "      <th>5</th>\n",
       "      <td>3757937037</td>\n",
       "      <td>13727.0</td>\n",
       "      <td>Territory Manager - New Haven</td>\n",
       "      <td>NaN</td>\n",
       "      <td>NaN</td>\n",
       "      <td>NaN</td>\n",
       "      <td>Full-time</td>\n",
       "      <td>United States</td>\n",
       "      <td>NaN</td>\n",
       "      <td>1.0</td>\n",
       "      <td>16.0</td>\n",
       "      <td>Mid-Senior level</td>\n",
       "      <td>NaN</td>\n",
       "      <td>www.zoll.com</td>\n",
       "      <td>FULL_TIME</td>\n",
       "    </tr>\n",
       "  </tbody>\n",
       "</table>\n",
       "</div>"
      ],
      "text/plain": [
       "       job_id  company_id                                              title  \\\n",
       "0  3757940104    553718.0                              Hearing Care Provider   \n",
       "1  3757940025   2192142.0  Shipping & Receiving Associate 2nd shift (Beav...   \n",
       "2  3757938019    474443.0                               Manager, Engineering   \n",
       "3  3757938018  18213359.0                                               Cook   \n",
       "5  3757937037     13727.0                      Territory Manager - New Haven   \n",
       "\n",
       "   max_salary  min_salary pay_period formatted_work_type          location  \\\n",
       "0         NaN         NaN    MONTHLY           Full-time  Little River, SC   \n",
       "1         NaN         NaN        NaN           Full-time    Beaver Dam, WI   \n",
       "2         NaN         NaN        NaN           Full-time      Bessemer, AL   \n",
       "3         NaN         NaN     HOURLY           Full-time   Aliso Viejo, CA   \n",
       "5         NaN         NaN        NaN           Full-time     United States   \n",
       "\n",
       "   applies  remote_allowed  views formatted_experience_level  \\\n",
       "0      NaN             NaN    9.0                Entry level   \n",
       "1      NaN             NaN    NaN                    Unknown   \n",
       "2      NaN             NaN    NaN                    Unknown   \n",
       "3      NaN             NaN    1.0                Entry level   \n",
       "5      NaN             1.0   16.0           Mid-Senior level   \n",
       "\n",
       "                                         skills_desc  \\\n",
       "0                                                NaN   \n",
       "1                                                NaN   \n",
       "2  Bachelor's Degree in Mechanical Engineering pr...   \n",
       "3                                                NaN   \n",
       "5                                                NaN   \n",
       "\n",
       "             posting_domain  work_type  \n",
       "0  careers-demant.icims.com  FULL_TIME  \n",
       "1       www.click2apply.net  FULL_TIME  \n",
       "2       www.click2apply.net  FULL_TIME  \n",
       "3           jobs.apploi.com  FULL_TIME  \n",
       "5              www.zoll.com  FULL_TIME  "
      ]
     },
     "execution_count": 195,
     "metadata": {},
     "output_type": "execute_result"
    }
   ],
   "source": [
    "## max_salary # 66% missing\n",
    "\n",
    "## min_salary # 66% missing\n",
    "\n",
    "df[\"max_salary\"].isnull().sum()\n",
    "\n",
    "no_salary = df[(df[\"max_salary\"].isnull()) & (df[\"min_salary\"].isnull())]   \n",
    "no_salary.head()\n",
    "\n",
    "# Which job posters do not provide sufficent details about the salary?\n",
    "no_salary\n",
    "\n",
    "\n",
    "# Which companies should recosider their job postings? ie those that are not effective at attaining applicants."
   ]
  },
  {
   "cell_type": "code",
   "execution_count": null,
   "metadata": {},
   "outputs": [],
   "source": [
    "\n",
    "# Add median salary column\n",
    "df['median_salary'] = (df['max_salary'] + df['min_salary']) / 2\n",
    "# df.head()\n",
    "\n",
    "# Distribution of median_salary\n",
    "plt.figure(figsize=(10, 6))\n",
    "sns.histplot(df['median_salary'], bins=30, kde=True)\n",
    "plt.title('Distribution of median_salary')\n",
    "plt.show()"
   ]
  },
  {
   "cell_type": "markdown",
   "metadata": {},
   "source": [
    "\n",
    "### pay_period\n",
    "\n",
    "\n"
   ]
  },
  {
   "cell_type": "code",
   "execution_count": null,
   "metadata": {},
   "outputs": [],
   "source": []
  },
  {
   "cell_type": "markdown",
   "metadata": {},
   "source": [
    "\n",
    "## Linkedin postings\n"
   ]
  },
  {
   "cell_type": "markdown",
   "metadata": {},
   "source": [
    "\n",
    "### applies\n"
   ]
  },
  {
   "cell_type": "code",
   "execution_count": null,
   "metadata": {},
   "outputs": [],
   "source": [
    "\n",
    "# df[\"applies\"].value_counts()\n",
    "df[\"applies\"].isnull().sum()\n",
    "df['applies'].fillna(0, inplace=True)\n"
   ]
  },
  {
   "cell_type": "code",
   "execution_count": 200,
   "metadata": {},
   "outputs": [
    {
     "data": {
      "text/plain": [
       "0.0      17008\n",
       "1.0       3706\n",
       "2.0       1954\n",
       "3.0       1262\n",
       "4.0        970\n",
       "         ...  \n",
       "325.0        1\n",
       "361.0        1\n",
       "362.0        1\n",
       "465.0        1\n",
       "669.0        1\n",
       "Name: applies, Length: 329, dtype: int64"
      ]
     },
     "execution_count": 200,
     "metadata": {},
     "output_type": "execute_result"
    }
   ],
   "source": [
    "df['applies'].value_counts()"
   ]
  },
  {
   "cell_type": "code",
   "execution_count": 207,
   "metadata": {},
   "outputs": [
    {
     "data": {
      "text/plain": [
       "0         Bad\n",
       "1         Bad\n",
       "2         Bad\n",
       "3         Bad\n",
       "4         Bad\n",
       "         ... \n",
       "33241     Bad\n",
       "33242    Okay\n",
       "33243     Bad\n",
       "33244     Bad\n",
       "33245     Bad\n",
       "Name: posting_effectiveness, Length: 33246, dtype: object"
      ]
     },
     "execution_count": 207,
     "metadata": {},
     "output_type": "execute_result"
    }
   ],
   "source": [
    "# We can add a new column to the DataFrame to indicate whether a job posting is effective or not.\n",
    "# Create a new column 'effectiveness' based on your criteria\n",
    "df['posting_effectiveness'] = df['applies'].apply(lambda x: 'Bad' if x == 0 else ('Okay' if 0 < x < 10 else ('Effective' if x < 100 else 'Too Many')))\n",
    "\n",
    "# Display the updated DataFrame\n",
    "# print(df)\n",
    "df['posting_effectiveness']"
   ]
  },
  {
   "cell_type": "markdown",
   "metadata": {},
   "source": [
    "\n",
    "### views\n"
   ]
  },
  {
   "cell_type": "code",
   "execution_count": 232,
   "metadata": {},
   "outputs": [
    {
     "data": {
      "text/html": [
       "<div>\n",
       "<style scoped>\n",
       "    .dataframe tbody tr th:only-of-type {\n",
       "        vertical-align: middle;\n",
       "    }\n",
       "\n",
       "    .dataframe tbody tr th {\n",
       "        vertical-align: top;\n",
       "    }\n",
       "\n",
       "    .dataframe thead th {\n",
       "        text-align: right;\n",
       "    }\n",
       "</style>\n",
       "<table border=\"1\" class=\"dataframe\">\n",
       "  <thead>\n",
       "    <tr style=\"text-align: right;\">\n",
       "      <th></th>\n",
       "      <th>job_id</th>\n",
       "      <th>company_id</th>\n",
       "      <th>title</th>\n",
       "      <th>max_salary</th>\n",
       "      <th>min_salary</th>\n",
       "      <th>pay_period</th>\n",
       "      <th>formatted_work_type</th>\n",
       "      <th>location</th>\n",
       "      <th>applies</th>\n",
       "      <th>remote_allowed</th>\n",
       "      <th>views</th>\n",
       "      <th>formatted_experience_level</th>\n",
       "      <th>skills_desc</th>\n",
       "      <th>posting_domain</th>\n",
       "      <th>work_type</th>\n",
       "      <th>posting_effectiveness</th>\n",
       "    </tr>\n",
       "  </thead>\n",
       "  <tbody>\n",
       "    <tr>\n",
       "      <th>18944</th>\n",
       "      <td>3701315902</td>\n",
       "      <td>87217500.0</td>\n",
       "      <td>Executive Assistant</td>\n",
       "      <td>NaN</td>\n",
       "      <td>NaN</td>\n",
       "      <td>NaN</td>\n",
       "      <td>Full-time</td>\n",
       "      <td>United States</td>\n",
       "      <td>0.0</td>\n",
       "      <td>1.0</td>\n",
       "      <td>2570.0</td>\n",
       "      <td>Unknown</td>\n",
       "      <td>NaN</td>\n",
       "      <td>NaN</td>\n",
       "      <td>FULL_TIME</td>\n",
       "      <td>Bad</td>\n",
       "    </tr>\n",
       "    <tr>\n",
       "      <th>19084</th>\n",
       "      <td>3701314188</td>\n",
       "      <td>68764239.0</td>\n",
       "      <td>Vice President</td>\n",
       "      <td>NaN</td>\n",
       "      <td>NaN</td>\n",
       "      <td>NaN</td>\n",
       "      <td>Full-time</td>\n",
       "      <td>United States</td>\n",
       "      <td>253.0</td>\n",
       "      <td>1.0</td>\n",
       "      <td>2599.0</td>\n",
       "      <td>Unknown</td>\n",
       "      <td>NaN</td>\n",
       "      <td>NaN</td>\n",
       "      <td>FULL_TIME</td>\n",
       "      <td>Too Many</td>\n",
       "    </tr>\n",
       "    <tr>\n",
       "      <th>32737</th>\n",
       "      <td>3693042964</td>\n",
       "      <td>29091.0</td>\n",
       "      <td>President / CEO</td>\n",
       "      <td>NaN</td>\n",
       "      <td>NaN</td>\n",
       "      <td>NaN</td>\n",
       "      <td>Full-time</td>\n",
       "      <td>United States</td>\n",
       "      <td>149.0</td>\n",
       "      <td>1.0</td>\n",
       "      <td>3453.0</td>\n",
       "      <td>Mid-Senior level</td>\n",
       "      <td>NaN</td>\n",
       "      <td>brainworksinc.com</td>\n",
       "      <td>FULL_TIME</td>\n",
       "      <td>Too Many</td>\n",
       "    </tr>\n",
       "    <tr>\n",
       "      <th>31437</th>\n",
       "      <td>3693049413</td>\n",
       "      <td>18476.0</td>\n",
       "      <td>Junior Software Engineer</td>\n",
       "      <td>NaN</td>\n",
       "      <td>NaN</td>\n",
       "      <td>NaN</td>\n",
       "      <td>Full-time</td>\n",
       "      <td>United States</td>\n",
       "      <td>1615.0</td>\n",
       "      <td>1.0</td>\n",
       "      <td>3657.0</td>\n",
       "      <td>Entry level</td>\n",
       "      <td>NaN</td>\n",
       "      <td>NaN</td>\n",
       "      <td>FULL_TIME</td>\n",
       "      <td>Too Many</td>\n",
       "    </tr>\n",
       "    <tr>\n",
       "      <th>32521</th>\n",
       "      <td>3693044557</td>\n",
       "      <td>2503130.0</td>\n",
       "      <td>Customer Success Manager</td>\n",
       "      <td>146000.0</td>\n",
       "      <td>115000.0</td>\n",
       "      <td>YEARLY</td>\n",
       "      <td>Full-time</td>\n",
       "      <td>United States</td>\n",
       "      <td>1420.0</td>\n",
       "      <td>1.0</td>\n",
       "      <td>5656.0</td>\n",
       "      <td>Unknown</td>\n",
       "      <td>NaN</td>\n",
       "      <td>NaN</td>\n",
       "      <td>FULL_TIME</td>\n",
       "      <td>Too Many</td>\n",
       "    </tr>\n",
       "  </tbody>\n",
       "</table>\n",
       "</div>"
      ],
      "text/plain": [
       "           job_id  company_id                     title  max_salary  \\\n",
       "18944  3701315902  87217500.0       Executive Assistant         NaN   \n",
       "19084  3701314188  68764239.0            Vice President         NaN   \n",
       "32737  3693042964     29091.0           President / CEO         NaN   \n",
       "31437  3693049413     18476.0  Junior Software Engineer         NaN   \n",
       "32521  3693044557   2503130.0  Customer Success Manager    146000.0   \n",
       "\n",
       "       min_salary pay_period formatted_work_type       location  applies  \\\n",
       "18944         NaN        NaN           Full-time  United States      0.0   \n",
       "19084         NaN        NaN           Full-time  United States    253.0   \n",
       "32737         NaN        NaN           Full-time  United States    149.0   \n",
       "31437         NaN        NaN           Full-time  United States   1615.0   \n",
       "32521    115000.0     YEARLY           Full-time  United States   1420.0   \n",
       "\n",
       "       remote_allowed   views formatted_experience_level skills_desc  \\\n",
       "18944             1.0  2570.0                    Unknown         NaN   \n",
       "19084             1.0  2599.0                    Unknown         NaN   \n",
       "32737             1.0  3453.0           Mid-Senior level         NaN   \n",
       "31437             1.0  3657.0                Entry level         NaN   \n",
       "32521             1.0  5656.0                    Unknown         NaN   \n",
       "\n",
       "          posting_domain  work_type posting_effectiveness  \n",
       "18944                NaN  FULL_TIME                   Bad  \n",
       "19084                NaN  FULL_TIME              Too Many  \n",
       "32737  brainworksinc.com  FULL_TIME              Too Many  \n",
       "31437                NaN  FULL_TIME              Too Many  \n",
       "32521                NaN  FULL_TIME              Too Many  "
      ]
     },
     "execution_count": 232,
     "metadata": {},
     "output_type": "execute_result"
    }
   ],
   "source": [
    "\n",
    "# df['views'].fillna(0, inplace=True)\n",
    "# df[\"views\"].isnull().sum() #7360\n",
    "\n",
    "# df['views'].value_counts()\n",
    "df.sort_values(by='views', inplace=False)\n",
    "df.tail()"
   ]
  },
  {
   "cell_type": "code",
   "execution_count": 242,
   "metadata": {},
   "outputs": [
    {
     "data": {
      "text/plain": [
       "(3784, 16)"
      ]
     },
     "execution_count": 242,
     "metadata": {},
     "output_type": "execute_result"
    }
   ],
   "source": [
    "#Say that postings outside of 100 views are outliers. How many are there?\n",
    "df[\"views\"].describe()\n",
    "\n",
    "df[df[\"views\"]<100].shape\n",
    "#proposed outliers\n",
    "df[df[\"views\"]>100].shape\n"
   ]
  },
  {
   "cell_type": "code",
   "execution_count": 244,
   "metadata": {},
   "outputs": [
    {
     "data": {
      "image/png": "[encoded data removed]",
      "text/plain": [
       "<Figure size 640x480 with 1 Axes>"
      ]
     },
     "metadata": {},
     "output_type": "display_data"
    }
   ],
   "source": [
    "\n",
    "# Assuming df is your DataFrame\n",
    "plt.boxplot(df[df[\"views\"]<100][\"views\"])\n",
    "plt.xlabel('Views')\n",
    "plt.ylabel('Number of Views')\n",
    "plt.title('Boxplot of Views')\n",
    "plt.show()\n",
    "\n"
   ]
  },
  {
   "cell_type": "code",
   "execution_count": 240,
   "metadata": {},
   "outputs": [
    {
     "data": {
      "text/plain": [
       "(3784, 16)"
      ]
     },
     "execution_count": 240,
     "metadata": {},
     "output_type": "execute_result"
    }
   ],
   "source": []
  },
  {
   "cell_type": "code",
   "execution_count": null,
   "metadata": {},
   "outputs": [],
   "source": [
    "\n",
    "# Reasons for minimal view counts can be reduced time of post on site.\n",
    "# can't assume posted at same time.\n",
    "# Cannot assume poor job posting."
   ]
  },
  {
   "cell_type": "markdown",
   "metadata": {},
   "source": [
    "\n",
    "### posting_domain\n"
   ]
  },
  {
   "cell_type": "code",
   "execution_count": null,
   "metadata": {},
   "outputs": [],
   "source": [
    "df[\"posting_domain\"].value_counts()\n",
    "\n",
    "# What domains post the most view/applications jobs?"
   ]
  },
  {
   "cell_type": "markdown",
   "metadata": {},
   "source": [
    "## Job_id and comapny_id"
   ]
  },
  {
   "cell_type": "code",
   "execution_count": null,
   "metadata": {},
   "outputs": [],
   "source": [
    "#Job_id\n",
    "\n",
    "# data\\raw\\job_details\\job_skills.csv # better than description\n",
    "\n",
    "# job_id and company_id are unique identifiers for each job posting and company, respectively.\n",
    "\n",
    "# Can ask which companies have multiple job postings.\n"
   ]
  },
  {
   "cell_type": "code",
   "execution_count": null,
   "metadata": {},
   "outputs": [],
   "source": [
    "# Company_id\n",
    "\n",
    "df_comp.head()\n",
    "\n",
    "# Do all jobs have a company_id?\n",
    "\n",
    "# Check for missing values\n",
    "df['company_id'].isnull().sum()\n",
    "\n",
    "\n",
    "# company_id\n",
    "# Check for unique values\n",
    "df['company_id'].nunique()\n",
    "df['company_id'].value_counts()\n",
    "\n",
    "# how popular is a given job classification in a given industry?\n",
    "# Which industry pays the most for a given job classification?\n",
    "\n",
    "#What type of job postings are there for each company?\n",
    "\n",
    "# What industry is popular? view and apps.\n",
    "\n",
    "# df_comp = pd.read_csv('../data/raw/company_details/companies.csv')\n",
    "# df_ind = pd.read_csv('../data/raw/company_details/company_industries.csv')\n",
    "# df_emp = pd.read_csv('../data/raw/company_details/employee_counts.csv')"
   ]
  },
  {
   "cell_type": "markdown",
   "metadata": {},
   "source": [
    "# Feature Engineering:\n"
   ]
  },
  {
   "cell_type": "code",
   "execution_count": null,
   "metadata": {},
   "outputs": [],
   "source": [
    "# for feature eng\n",
    "## Add country col from location\n",
    "\n"
   ]
  },
  {
   "cell_type": "markdown",
   "metadata": {},
   "source": [
    "\n",
    "## Job classification"
   ]
  },
  {
   "cell_type": "code",
   "execution_count": null,
   "metadata": {},
   "outputs": [],
   "source": [
    "# The title is specific, want to distil the type of job that it is. "
   ]
  },
  {
   "cell_type": "code",
   "execution_count": 69,
   "metadata": {},
   "outputs": [],
   "source": [
    "\n",
    "# from wordcloud import WordCloud\n",
    "\n",
    "# wordcloud = WordCloud(width=800, height=400, background_color='white').generate(' '.join(df['title']))\n",
    "# plt.figure(figsize=(12, 6))\n",
    "# plt.imshow(wordcloud, interpolation='bilinear')\n",
    "# plt.axis('off')\n",
    "# plt.title('Word Cloud of Job Titles')\n",
    "# # plt.show()\n",
    "\n"
   ]
  },
  {
   "cell_type": "code",
   "execution_count": null,
   "metadata": {},
   "outputs": [
    {
     "name": "stdout",
     "output_type": "stream",
     "text": [
      "100 Most Common Words in 'title' column:\n",
      "Manager: 5238\n",
      "Engineer: 2871\n",
      "Senior: 2283\n",
      "Sales: 2112\n",
      "Specialist: 1761\n",
      "Associate: 1686\n",
      "Assistant: 1583\n",
      "Director: 1557\n",
      "Analyst: 1536\n",
      "Technician: 1280\n",
      "Nurse: 1110\n",
      "Project: 962\n",
      "RN: 926\n",
      "Business: 833\n",
      "Lead: 813\n",
      "Service: 804\n",
      "Coordinator: 759\n",
      "Time: 735\n",
      "Representative: 728\n",
      "Account: 728\n",
      "Developer: 684\n",
      "Operations: 675\n",
      "Support: 673\n",
      "Sr: 666\n",
      "Registered: 663\n",
      "Data: 660\n",
      "Executive: 618\n",
      "Supervisor: 568\n",
      "Development: 567\n",
      "Software: 541\n",
      "Marketing: 540\n",
      "II: 534\n",
      "Remote: 522\n",
      "Customer: 516\n",
      "Program: 496\n",
      "Operator: 495\n",
      "Consultant: 486\n",
      "Product: 476\n",
      "Services: 468\n",
      "Full: 465\n",
      "Accountant: 461\n",
      "Care: 454\n",
      "Travel: 454\n",
      "Part: 444\n",
      "Medical: 435\n",
      "Shift: 434\n",
      "Retail: 420\n",
      "Architect: 400\n",
      "Engineering: 386\n",
      "Financial: 384\n",
      "Store: 381\n",
      "Technical: 381\n",
      "Management: 380\n",
      "Quality: 370\n",
      "Staff: 369\n",
      "Health: 369\n",
      "Intern: 360\n",
      "Maintenance: 353\n",
      "Security: 341\n",
      "Designer: 334\n",
      "Tech: 334\n",
      "Clinical: 333\n",
      "Systems: 328\n",
      "Administrator: 314\n",
      "Field: 312\n",
      "Tax: 305\n",
      "Center: 302\n",
      "Team: 302\n",
      "2: 302\n",
      "Construction: 276\n",
      "Production: 275\n",
      "Design: 270\n",
      "Driver: 269\n",
      "Owner: 268\n",
      "General: 267\n",
      "Warehouse: 258\n",
      "Office: 255\n",
      "Administrative: 251\n",
      "Accounting: 249\n",
      "Level: 248\n",
      "week: 247\n",
      "Research: 245\n",
      "2024: 239\n",
      "Attorney: 236\n",
      "Human: 233\n",
      "Resources: 232\n",
      "Therapist: 231\n",
      "Advisor: 229\n",
      "Officer: 227\n",
      "Technology: 226\n",
      "Cloud: 225\n",
      "Patient: 225\n",
      "Scientist: 223\n",
      "Entry: 222\n",
      "Network: 216\n",
      "Make: 213\n",
      "Client: 212\n",
      "1: 210\n",
      "Global: 209\n",
      "Finance: 208\n"
     ]
    }
   ],
   "source": [
    "from collections import Counter\n",
    "from wordcloud import STOPWORDS\n",
    "import re\n",
    "\n",
    "# Assuming df is your DataFrame\n",
    "job_titles = df['title'].dropna()  # Drop any NaN values if present\n",
    "\n",
    "# Combine all job titles into a single string\n",
    "all_titles_text = ' '.join(job_titles)\n",
    "\n",
    "# Remove common English stopwords from the text\n",
    "stopwords = set(STOPWORDS)\n",
    "all_titles_text = ' '.join([word for word in all_titles_text.split() if word.lower() not in stopwords])\n",
    "\n",
    "# Remove symbols and keep only alphanumeric words\n",
    "all_titles_text = re.sub(r'\\W', ' ', all_titles_text)\n",
    "\n",
    "# Tokenize the text into words\n",
    "words = all_titles_text.split()\n",
    "\n",
    "# Count the occurrences of each word\n",
    "word_counter = Counter(words)\n",
    "\n",
    "# Get the 100 most common words\n",
    "most_common_words = word_counter.most_common(100)\n",
    "\n",
    "# Display the result\n",
    "print(\"100 Most Common Words in 'title' column:\")\n",
    "for word, count in most_common_words:\n",
    "    print(f\"{word}: {count}\")\n",
    "\n",
    "# Define the most common words\n",
    "most_common_words_l=word_list = [word for word, _ in most_common_words]\n",
    "# most_common_words_l"
   ]
  },
  {
   "cell_type": "code",
   "execution_count": 21,
   "metadata": {},
   "outputs": [
    {
     "data": {
      "text/html": [
       "<div>\n",
       "<style scoped>\n",
       "    .dataframe tbody tr th:only-of-type {\n",
       "        vertical-align: middle;\n",
       "    }\n",
       "\n",
       "    .dataframe tbody tr th {\n",
       "        vertical-align: top;\n",
       "    }\n",
       "\n",
       "    .dataframe thead th {\n",
       "        text-align: right;\n",
       "    }\n",
       "</style>\n",
       "<table border=\"1\" class=\"dataframe\">\n",
       "  <thead>\n",
       "    <tr style=\"text-align: right;\">\n",
       "      <th></th>\n",
       "      <th>job_id</th>\n",
       "      <th>company_id</th>\n",
       "      <th>title</th>\n",
       "      <th>max_salary</th>\n",
       "      <th>min_salary</th>\n",
       "      <th>pay_period</th>\n",
       "      <th>formatted_work_type</th>\n",
       "      <th>location</th>\n",
       "      <th>applies</th>\n",
       "      <th>remote_allowed</th>\n",
       "      <th>views</th>\n",
       "      <th>formatted_experience_level</th>\n",
       "      <th>skills_desc</th>\n",
       "      <th>posting_domain</th>\n",
       "      <th>work_type</th>\n",
       "      <th>job_classification</th>\n",
       "    </tr>\n",
       "  </thead>\n",
       "  <tbody>\n",
       "    <tr>\n",
       "      <th>0</th>\n",
       "      <td>3757940104</td>\n",
       "      <td>553718.0</td>\n",
       "      <td>Hearing Care Provider</td>\n",
       "      <td>NaN</td>\n",
       "      <td>NaN</td>\n",
       "      <td>MONTHLY</td>\n",
       "      <td>Full-time</td>\n",
       "      <td>Little River, SC</td>\n",
       "      <td>NaN</td>\n",
       "      <td>NaN</td>\n",
       "      <td>9.0</td>\n",
       "      <td>Entry level</td>\n",
       "      <td>NaN</td>\n",
       "      <td>careers-demant.icims.com</td>\n",
       "      <td>FULL_TIME</td>\n",
       "      <td>Care</td>\n",
       "    </tr>\n",
       "    <tr>\n",
       "      <th>1</th>\n",
       "      <td>3757940025</td>\n",
       "      <td>2192142.0</td>\n",
       "      <td>Shipping &amp; Receiving Associate 2nd shift (Beav...</td>\n",
       "      <td>NaN</td>\n",
       "      <td>NaN</td>\n",
       "      <td>NaN</td>\n",
       "      <td>Full-time</td>\n",
       "      <td>Beaver Dam, WI</td>\n",
       "      <td>NaN</td>\n",
       "      <td>NaN</td>\n",
       "      <td>NaN</td>\n",
       "      <td>NaN</td>\n",
       "      <td>NaN</td>\n",
       "      <td>www.click2apply.net</td>\n",
       "      <td>FULL_TIME</td>\n",
       "      <td>Associate</td>\n",
       "    </tr>\n",
       "    <tr>\n",
       "      <th>2</th>\n",
       "      <td>3757938019</td>\n",
       "      <td>474443.0</td>\n",
       "      <td>Manager, Engineering</td>\n",
       "      <td>NaN</td>\n",
       "      <td>NaN</td>\n",
       "      <td>NaN</td>\n",
       "      <td>Full-time</td>\n",
       "      <td>Bessemer, AL</td>\n",
       "      <td>NaN</td>\n",
       "      <td>NaN</td>\n",
       "      <td>NaN</td>\n",
       "      <td>NaN</td>\n",
       "      <td>Bachelor's Degree in Mechanical Engineering pr...</td>\n",
       "      <td>www.click2apply.net</td>\n",
       "      <td>FULL_TIME</td>\n",
       "      <td>Manager</td>\n",
       "    </tr>\n",
       "    <tr>\n",
       "      <th>3</th>\n",
       "      <td>3757938018</td>\n",
       "      <td>18213359.0</td>\n",
       "      <td>Cook</td>\n",
       "      <td>NaN</td>\n",
       "      <td>NaN</td>\n",
       "      <td>HOURLY</td>\n",
       "      <td>Full-time</td>\n",
       "      <td>Aliso Viejo, CA</td>\n",
       "      <td>NaN</td>\n",
       "      <td>NaN</td>\n",
       "      <td>1.0</td>\n",
       "      <td>Entry level</td>\n",
       "      <td>NaN</td>\n",
       "      <td>jobs.apploi.com</td>\n",
       "      <td>FULL_TIME</td>\n",
       "      <td></td>\n",
       "    </tr>\n",
       "    <tr>\n",
       "      <th>4</th>\n",
       "      <td>3757937095</td>\n",
       "      <td>437225.0</td>\n",
       "      <td>Principal Cloud Security Architect (Remote)</td>\n",
       "      <td>275834.0</td>\n",
       "      <td>205956.0</td>\n",
       "      <td>YEARLY</td>\n",
       "      <td>Full-time</td>\n",
       "      <td>United States</td>\n",
       "      <td>NaN</td>\n",
       "      <td>1.0</td>\n",
       "      <td>NaN</td>\n",
       "      <td>Mid-Senior level</td>\n",
       "      <td>NaN</td>\n",
       "      <td>careers.iherb.com</td>\n",
       "      <td>FULL_TIME</td>\n",
       "      <td>Remote</td>\n",
       "    </tr>\n",
       "  </tbody>\n",
       "</table>\n",
       "</div>"
      ],
      "text/plain": [
       "       job_id  company_id                                              title  \\\n",
       "0  3757940104    553718.0                              Hearing Care Provider   \n",
       "1  3757940025   2192142.0  Shipping & Receiving Associate 2nd shift (Beav...   \n",
       "2  3757938019    474443.0                               Manager, Engineering   \n",
       "3  3757938018  18213359.0                                               Cook   \n",
       "4  3757937095    437225.0        Principal Cloud Security Architect (Remote)   \n",
       "\n",
       "   max_salary  min_salary pay_period formatted_work_type          location  \\\n",
       "0         NaN         NaN    MONTHLY           Full-time  Little River, SC   \n",
       "1         NaN         NaN        NaN           Full-time    Beaver Dam, WI   \n",
       "2         NaN         NaN        NaN           Full-time      Bessemer, AL   \n",
       "3         NaN         NaN     HOURLY           Full-time   Aliso Viejo, CA   \n",
       "4    275834.0    205956.0     YEARLY           Full-time     United States   \n",
       "\n",
       "   applies  remote_allowed  views formatted_experience_level  \\\n",
       "0      NaN             NaN    9.0                Entry level   \n",
       "1      NaN             NaN    NaN                        NaN   \n",
       "2      NaN             NaN    NaN                        NaN   \n",
       "3      NaN             NaN    1.0                Entry level   \n",
       "4      NaN             1.0    NaN           Mid-Senior level   \n",
       "\n",
       "                                         skills_desc  \\\n",
       "0                                                NaN   \n",
       "1                                                NaN   \n",
       "2  Bachelor's Degree in Mechanical Engineering pr...   \n",
       "3                                                NaN   \n",
       "4                                                NaN   \n",
       "\n",
       "             posting_domain  work_type job_classification  \n",
       "0  careers-demant.icims.com  FULL_TIME               Care  \n",
       "1       www.click2apply.net  FULL_TIME          Associate  \n",
       "2       www.click2apply.net  FULL_TIME            Manager  \n",
       "3           jobs.apploi.com  FULL_TIME                     \n",
       "4         careers.iherb.com  FULL_TIME             Remote  "
      ]
     },
     "execution_count": 21,
     "metadata": {},
     "output_type": "execute_result"
    }
   ],
   "source": [
    "\n",
    "# Create a new column for classification\n",
    "df['job_classification'] = ''\n",
    "\n",
    "# Iterate over each row in the dataframe\n",
    "for index, row in df.iterrows():\n",
    "    title = row['title']\n",
    "    classification = ''\n",
    "    \n",
    "    # Check if any of the most common words are present in the title\n",
    "    for word in most_common_words_l:\n",
    "        if word in title:\n",
    "            classification = word\n",
    "            break\n",
    "    \n",
    "    # Assign the classification to the corresponding row\n",
    "    df.at[index, 'job_classification'] = classification\n",
    "\n",
    "\n",
    "# Display the first few rows of the dataframe\n",
    "df.head()"
   ]
  },
  {
   "cell_type": "markdown",
   "metadata": {},
   "source": [
    "# Questions"
   ]
  },
  {
   "cell_type": "markdown",
   "metadata": {},
   "source": [
    "## Which companies post the same job title multiple times? Why would they do this?"
   ]
  },
  {
   "cell_type": "code",
   "execution_count": null,
   "metadata": {},
   "outputs": [
    {
     "name": "stdout",
     "output_type": "stream",
     "text": [
      "Top 10 most common job titles:\n",
      " Sales Director [Owner/Operator]    120\n",
      "Sales Manager                       99\n",
      "Project Manager                     97\n",
      "Customer Service Representative     85\n",
      "Senior Accountant                   83\n",
      "Retail Sales Associate              82\n",
      "Sales Associate                     81\n",
      "Staff Accountant                    78\n",
      "Administrative Assistant            77\n",
      "Executive Assistant                 72\n",
      "Name: title, dtype: int64\n",
      "[120, 99, 97, 85, 83, 82, 81, 78, 77, 72]\n"
     ]
    }
   ],
   "source": [
    "# Top 10 most common job titles\n",
    "most_common_titles = df['title'].value_counts().head(10)\n",
    "print(\"Top 10 most common job titles:\\n\", most_common_titles)\n"
   ]
  },
  {
   "cell_type": "code",
   "execution_count": null,
   "metadata": {},
   "outputs": [
    {
     "name": "stdout",
     "output_type": "stream",
     "text": [
      "List of Top 10 most common job titles:\n",
      " ['Sales Director [Owner/Operator]', 'Sales Manager', 'Project Manager', 'Customer Service Representative', 'Senior Accountant', 'Retail Sales Associate', 'Sales Associate', 'Staff Accountant', 'Administrative Assistant', 'Executive Assistant']\n"
     ]
    }
   ],
   "source": [
    "top_titles_list = most_common_titles.index.tolist()\n",
    "\n",
    "# Display the list of top job titles\n",
    "print(\"List of Top 10 most common job titles:\\n\", top_titles_list)"
   ]
  },
  {
   "cell_type": "code",
   "execution_count": null,
   "metadata": {},
   "outputs": [
    {
     "name": "stdout",
     "output_type": "stream",
     "text": [
      "\n",
      " Number of unique job titles: 22404\n"
     ]
    }
   ],
   "source": []
  },
  {
   "cell_type": "code",
   "execution_count": null,
   "metadata": {},
   "outputs": [],
   "source": [
    "#extract rows with title\n",
    "\n",
    "# title = \"Sales Manager\"\n",
    "title=\"Project Manager\"\n",
    "df_title = df[df[\"title\"] == title]"
   ]
  },
  {
   "cell_type": "code",
   "execution_count": null,
   "metadata": {},
   "outputs": [
    {
     "name": "stdout",
     "output_type": "stream",
     "text": [
      "    company_id  count\n",
      "5      11056.0      4\n",
      "2       4852.0      2\n",
      "85  95073063.0      2\n",
      "19     62227.0      2\n",
      "32    294125.0      2\n",
      "..         ...    ...\n",
      "29    164860.0      1\n",
      "28    163188.0      1\n",
      "27    151137.0      1\n",
      "26    134577.0      1\n",
      "86  98506846.0      1\n",
      "\n",
      "[87 rows x 2 columns]\n"
     ]
    }
   ],
   "source": [
    "# Group by 'company_id'\n",
    "grouped_df = df_title.groupby('company_id').size().reset_index(name='count')\n",
    "sorted_grouped_df = grouped_df.sort_values(by='count', ascending=False)\n",
    "\n",
    "# Display the grouped DataFrame\n",
    "print(sorted_grouped_df)"
   ]
  },
  {
   "cell_type": "code",
   "execution_count": null,
   "metadata": {},
   "outputs": [
    {
     "name": "stdout",
     "output_type": "stream",
     "text": [
      "{'Sales Director [Owner/Operator]': [3570660.0], 'Sales Manager': [73013724.0], 'Project Manager': [11056.0], 'Customer Service Representative': [12446.0, 98061689.0, 11056.0, 2575734.0], 'Senior Accountant': [1681.0, 18860134.0, 248184.0], 'Retail Sales Associate': [1103.0, 28923.0, 5328.0, 8294.0], 'Sales Associate': [6176.0, 7795.0, 5061336.0, 1511.0, 30755.0], 'Staff Accountant': [], 'Administrative Assistant': [686294.0], 'Executive Assistant': [373568.0]}\n"
     ]
    }
   ],
   "source": [
    "# Initialize an empty dictionary to store the results\n",
    "companies_with_multiple_posts = {}\n",
    "\n",
    "for title in top_titles_list:\n",
    "    df_title = df[df[\"title\"] == title]\n",
    "    grouped_df = df_title.groupby('company_id').size().reset_index(name='count')\n",
    "    sorted_grouped_df = grouped_df.sort_values(by='count', ascending=False)\n",
    "    \n",
    "    # Extract the company ids for which the count exceeds 5\n",
    "    companies = sorted_grouped_df[sorted_grouped_df['count'] > 3]['company_id'].tolist()\n",
    "    \n",
    "    # Add the result to the dictionary\n",
    "    companies_with_multiple_posts[title] = companies\n",
    "\n",
    "# Now, companies_with_multiple_posts is a dictionary where the keys are job titles and the values are lists of company ids\n",
    "print(companies_with_multiple_posts)"
   ]
  },
  {
   "cell_type": "code",
   "execution_count": null,
   "metadata": {},
   "outputs": [
    {
     "data": {
      "text/html": [
       "<div>\n",
       "<style scoped>\n",
       "    .dataframe tbody tr th:only-of-type {\n",
       "        vertical-align: middle;\n",
       "    }\n",
       "\n",
       "    .dataframe tbody tr th {\n",
       "        vertical-align: top;\n",
       "    }\n",
       "\n",
       "    .dataframe thead th {\n",
       "        text-align: right;\n",
       "    }\n",
       "</style>\n",
       "<table border=\"1\" class=\"dataframe\">\n",
       "  <thead>\n",
       "    <tr style=\"text-align: right;\">\n",
       "      <th></th>\n",
       "      <th>job_id</th>\n",
       "      <th>company_id</th>\n",
       "      <th>title</th>\n",
       "      <th>max_salary</th>\n",
       "      <th>min_salary</th>\n",
       "      <th>pay_period</th>\n",
       "      <th>formatted_work_type</th>\n",
       "      <th>location</th>\n",
       "      <th>applies</th>\n",
       "      <th>remote_allowed</th>\n",
       "      <th>views</th>\n",
       "      <th>formatted_experience_level</th>\n",
       "      <th>skills_desc</th>\n",
       "      <th>posting_domain</th>\n",
       "      <th>work_type</th>\n",
       "      <th>count</th>\n",
       "    </tr>\n",
       "  </thead>\n",
       "  <tbody>\n",
       "    <tr>\n",
       "      <th>0</th>\n",
       "      <td>3757935001</td>\n",
       "      <td>73013724.0</td>\n",
       "      <td>Sales Manager</td>\n",
       "      <td>350000.0</td>\n",
       "      <td>125000.0</td>\n",
       "      <td>YEARLY</td>\n",
       "      <td>Full-time</td>\n",
       "      <td>Coeur d'Alene, ID</td>\n",
       "      <td>NaN</td>\n",
       "      <td>1.0</td>\n",
       "      <td>NaN</td>\n",
       "      <td>Mid-Senior level</td>\n",
       "      <td>NaN</td>\n",
       "      <td>NaN</td>\n",
       "      <td>FULL_TIME</td>\n",
       "      <td>63</td>\n",
       "    </tr>\n",
       "    <tr>\n",
       "      <th>1</th>\n",
       "      <td>3757934264</td>\n",
       "      <td>73013724.0</td>\n",
       "      <td>Sales Manager</td>\n",
       "      <td>350000.0</td>\n",
       "      <td>125000.0</td>\n",
       "      <td>YEARLY</td>\n",
       "      <td>Full-time</td>\n",
       "      <td>Richmond, VA</td>\n",
       "      <td>NaN</td>\n",
       "      <td>1.0</td>\n",
       "      <td>NaN</td>\n",
       "      <td>Mid-Senior level</td>\n",
       "      <td>NaN</td>\n",
       "      <td>NaN</td>\n",
       "      <td>FULL_TIME</td>\n",
       "      <td>63</td>\n",
       "    </tr>\n",
       "    <tr>\n",
       "      <th>2</th>\n",
       "      <td>3757934178</td>\n",
       "      <td>73013724.0</td>\n",
       "      <td>Sales Manager</td>\n",
       "      <td>350000.0</td>\n",
       "      <td>125000.0</td>\n",
       "      <td>YEARLY</td>\n",
       "      <td>Full-time</td>\n",
       "      <td>Rapid City, SD</td>\n",
       "      <td>NaN</td>\n",
       "      <td>1.0</td>\n",
       "      <td>NaN</td>\n",
       "      <td>Mid-Senior level</td>\n",
       "      <td>NaN</td>\n",
       "      <td>NaN</td>\n",
       "      <td>FULL_TIME</td>\n",
       "      <td>63</td>\n",
       "    </tr>\n",
       "    <tr>\n",
       "      <th>3</th>\n",
       "      <td>3757934003</td>\n",
       "      <td>73013724.0</td>\n",
       "      <td>Sales Manager</td>\n",
       "      <td>350000.0</td>\n",
       "      <td>125000.0</td>\n",
       "      <td>YEARLY</td>\n",
       "      <td>Full-time</td>\n",
       "      <td>Yuma, AZ</td>\n",
       "      <td>NaN</td>\n",
       "      <td>1.0</td>\n",
       "      <td>NaN</td>\n",
       "      <td>Mid-Senior level</td>\n",
       "      <td>NaN</td>\n",
       "      <td>NaN</td>\n",
       "      <td>FULL_TIME</td>\n",
       "      <td>63</td>\n",
       "    </tr>\n",
       "    <tr>\n",
       "      <th>4</th>\n",
       "      <td>3757933435</td>\n",
       "      <td>73013724.0</td>\n",
       "      <td>Sales Manager</td>\n",
       "      <td>350000.0</td>\n",
       "      <td>125000.0</td>\n",
       "      <td>YEARLY</td>\n",
       "      <td>Full-time</td>\n",
       "      <td>Sheboygan, WI</td>\n",
       "      <td>NaN</td>\n",
       "      <td>1.0</td>\n",
       "      <td>NaN</td>\n",
       "      <td>Mid-Senior level</td>\n",
       "      <td>NaN</td>\n",
       "      <td>NaN</td>\n",
       "      <td>FULL_TIME</td>\n",
       "      <td>63</td>\n",
       "    </tr>\n",
       "  </tbody>\n",
       "</table>\n",
       "</div>"
      ],
      "text/plain": [
       "       job_id  company_id          title  max_salary  min_salary pay_period  \\\n",
       "0  3757935001  73013724.0  Sales Manager    350000.0    125000.0     YEARLY   \n",
       "1  3757934264  73013724.0  Sales Manager    350000.0    125000.0     YEARLY   \n",
       "2  3757934178  73013724.0  Sales Manager    350000.0    125000.0     YEARLY   \n",
       "3  3757934003  73013724.0  Sales Manager    350000.0    125000.0     YEARLY   \n",
       "4  3757933435  73013724.0  Sales Manager    350000.0    125000.0     YEARLY   \n",
       "\n",
       "  formatted_work_type           location  applies  remote_allowed  views  \\\n",
       "0           Full-time  Coeur d'Alene, ID      NaN             1.0    NaN   \n",
       "1           Full-time       Richmond, VA      NaN             1.0    NaN   \n",
       "2           Full-time     Rapid City, SD      NaN             1.0    NaN   \n",
       "3           Full-time           Yuma, AZ      NaN             1.0    NaN   \n",
       "4           Full-time      Sheboygan, WI      NaN             1.0    NaN   \n",
       "\n",
       "  formatted_experience_level skills_desc posting_domain  work_type  count  \n",
       "0           Mid-Senior level         NaN            NaN  FULL_TIME     63  \n",
       "1           Mid-Senior level         NaN            NaN  FULL_TIME     63  \n",
       "2           Mid-Senior level         NaN            NaN  FULL_TIME     63  \n",
       "3           Mid-Senior level         NaN            NaN  FULL_TIME     63  \n",
       "4           Mid-Senior level         NaN            NaN  FULL_TIME     63  "
      ]
     },
     "metadata": {},
     "output_type": "display_data"
    }
   ],
   "source": [
    "selected_company_id = 73013724.0\n",
    "\n",
    "# Merge the two DataFrames based on 'company_id'\n",
    "result_df = pd.merge(df, grouped_df[grouped_df[\"company_id\"] == selected_company_id], on='company_id', how='inner')\n",
    "\n",
    "# Display the resulting DataFrame\n",
    "result_df.head()"
   ]
  },
  {
   "cell_type": "code",
   "execution_count": null,
   "metadata": {},
   "outputs": [],
   "source": []
  },
  {
   "cell_type": "code",
   "execution_count": null,
   "metadata": {},
   "outputs": [
    {
     "data": {
      "text/plain": [
       "(63, 14)"
      ]
     },
     "metadata": {},
     "output_type": "display_data"
    }
   ],
   "source": [
    "# result_df.drop(\"job_id\", axis=1, inplace=True)\n",
    "\n",
    "# # result_df.shape # 63\n",
    "# result_df.drop_duplicates(inplace=True)\n",
    "# result_df.shape "
   ]
  },
  {
   "cell_type": "code",
   "execution_count": null,
   "metadata": {},
   "outputs": [],
   "source": [
    "\n",
    "# is there any duplicate rows after removing identifiers, but with different locations, posted by the same person or different companies?\n",
    "#Which companies are looking for the same title/job_classification (what constitues the same job)"
   ]
  },
  {
   "cell_type": "markdown",
   "metadata": {},
   "source": [
    "## Analysis with job classifications"
   ]
  },
  {
   "cell_type": "code",
   "execution_count": null,
   "metadata": {},
   "outputs": [],
   "source": [
    "\n",
    "#Distrubition of job_classification wrt views.\n",
    "\n",
    "#number of applications for each job classification compared to the number of views\n",
    "# or ratio of applications to views fo each class\n",
    "\n",
    "#Are there certain job_classification associated with median salaries?\n",
    "\n",
    "# plt.figure(figsize=(12, 8))\n",
    "# # sns.boxplot(x='job_classification', y='median_salary', data=df)\n",
    "# plt.xticks(rotation=90)\n",
    "# plt.title('Boxplot of median Salary by Job Title')\n",
    "# plt.show()\n",
    "\n",
    "#What is considered entry level wage for each job classification?\n"
   ]
  },
  {
   "cell_type": "markdown",
   "metadata": {},
   "source": [
    "## Analysis with salary\n"
   ]
  },
  {
   "cell_type": "code",
   "execution_count": null,
   "metadata": {},
   "outputs": [],
   "source": [
    "\n",
    "# Does the highest paying jobs attact the most view and or apps? (scatter pay to views and apps).\n",
    "\n",
    "# What is the distrubition of applications/views against pay?\n",
    "\n",
    "# is the pay_period (hrly) indictive of lower paying jobs?\n",
    "## Boxplot for salary information\n",
    "# plt.figure(figsize=(12, 8))\n",
    "# sns.boxplot(x='pay_period', y='max_salary', data=df)\n",
    "# plt.title('Boxplot of Max Salary by Pay Period')\n",
    "# plt.show()\n"
   ]
  },
  {
   "cell_type": "code",
   "execution_count": null,
   "metadata": {},
   "outputs": [],
   "source": [
    "#Prediction\n",
    "# Want to predict median salary based on job classification, location_country, formatted_work_type, and formatted_experience_level,pay_period\n",
    "\n",
    "# Want a  visual of jobs in this category and their median salary.\n"
   ]
  }
 ],
 "metadata": {
  "kernelspec": {
   "display_name": "base",
   "language": "python",
   "name": "python3"
  },
  "language_info": {
   "codemirror_mode": {
    "name": "ipython",
    "version": 3
   },
   "file_extension": ".py",
   "mimetype": "text/x-python",
   "name": "python",
   "nbconvert_exporter": "python",
   "pygments_lexer": "ipython3",
   "version": "3.10.8"
  }
 },
 "nbformat": 4,
 "nbformat_minor": 2
}
